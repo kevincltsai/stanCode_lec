{
 "cells": [
  {
   "cell_type": "code",
   "execution_count": null,
   "metadata": {
    "id": "Awle1npEzPuH"
   },
   "outputs": [],
   "source": [
    "from google.colab import drive\n",
    "drive.mount('/content/drive', force_remount=True)"
   ]
  },
  {
   "cell_type": "code",
   "execution_count": null,
   "metadata": {
    "id": "dDjPWq60zg6z"
   },
   "outputs": [],
   "source": [
    "# Get to the folder we are at\n",
    "FOLDERNAME = 'Colab\\ Notebooks/SC201L17'\n",
    "%cd drive/MyDrive/$FOLDERNAME/"
   ]
  },
  {
   "cell_type": "code",
   "execution_count": null,
   "metadata": {
    "id": "y97j98Q4z7Xc"
   },
   "outputs": [],
   "source": [
    "import torch\n",
    "import torch.nn as nn\n",
    "import torch.optim as optim\n",
    "from torch.utils.data import DataLoader\n",
    "import pandas as pd"
   ]
  },
  {
   "cell_type": "code",
   "execution_count": null,
   "metadata": {
    "id": "TwWJ50WazslW"
   },
   "outputs": [],
   "source": [
    "# Seed for same output\n",
    "torch.manual_seed(42)\n",
    "torch.backends.cudnn.benchmark = False\n",
    "torch.backends.cudnn.deterministic = True"
   ]
  },
  {
   "cell_type": "code",
   "execution_count": null,
   "metadata": {
    "id": "r2mgLa3M0Byv"
   },
   "outputs": [],
   "source": [
    "device = torch.device(\"cuda:0\" if torch.cuda.is_available() else \"cpu\")\n",
    "print(device)"
   ]
  },
  {
   "cell_type": "code",
   "execution_count": null,
   "metadata": {
    "id": "ECfzthFg0JAx"
   },
   "outputs": [],
   "source": [
    "# Reading in our file\n"
   ]
  },
  {
   "cell_type": "code",
   "execution_count": null,
   "metadata": {
    "id": "_fD-STdS1YrR"
   },
   "outputs": [],
   "source": [
    "# Get data & labels\n"
   ]
  },
  {
   "cell_type": "code",
   "execution_count": null,
   "metadata": {
    "id": "VOm0Ite22dDv"
   },
   "outputs": [],
   "source": [
    "# Replace 'positive' with 1; 'negative' with 0\n"
   ]
  },
  {
   "cell_type": "code",
   "execution_count": null,
   "metadata": {
    "id": "Ok1_tvlQ2ucU"
   },
   "outputs": [],
   "source": []
  },
  {
   "cell_type": "code",
   "execution_count": null,
   "metadata": {
    "id": "zRKuY6rd3A3T"
   },
   "outputs": [],
   "source": [
    "patterns = ['<br />', '--', '.', ',', '!', '?', ')', '(', ';', ':', '*', '~', '_', \"'\", '\"']\n",
    "replacements = [' ', ' ', ' ', ' ', ' ', ' ', ' ', ' ', ' ', ' ', ' ', ' ', ' ', '', '']"
   ]
  },
  {
   "cell_type": "code",
   "execution_count": null,
   "metadata": {
    "id": "Z865Qnf56O_f"
   },
   "outputs": [],
   "source": [
    "def preprocessing(reviews, patterns, replacements):\n",
    "  ##################\n",
    "  #                #\n",
    "  #     TODO:      #\n",
    "  #                #\n",
    "  ##################\n",
    "  pass"
   ]
  },
  {
   "cell_type": "code",
   "execution_count": null,
   "metadata": {
    "id": "CMFvQLEJ7Jm8"
   },
   "outputs": [],
   "source": [
    "reviews = preprocessing(reviews, patterns, replacements)"
   ]
  },
  {
   "cell_type": "code",
   "execution_count": null,
   "metadata": {
    "id": "IV8p_VRE-WWR"
   },
   "outputs": [],
   "source": [
    "num_train = 35000\n",
    "num_val = 15000\n",
    "longest_num_tokens = 250"
   ]
  },
  {
   "cell_type": "code",
   "execution_count": null,
   "metadata": {
    "id": "8gTXoaJq7EgR"
   },
   "outputs": [],
   "source": [
    "def indexing_tokens():\n",
    "  ##################\n",
    "  #                #\n",
    "  #     TODO:      #\n",
    "  #                #\n",
    "  ##################\n",
    "  pass\n"
   ]
  },
  {
   "cell_type": "code",
   "execution_count": null,
   "metadata": {
    "id": "2jazcczJ-zfC"
   },
   "outputs": [],
   "source": [
    "def get_data(indices, longest_line_tokens, mode='train'):\n",
    "    data = []\n",
    "    Y = []\n",
    "    if mode == 'train':\n",
    "      pass\n",
    "      ##################\n",
    "      #                #\n",
    "      #     TODO:      #\n",
    "      #                #\n",
    "      ##################\n",
    "    else:\n",
    "      pass\n",
    "      ##################\n",
    "      #                #\n",
    "      #     TODO:      #\n",
    "      #                #\n",
    "      ##################\n",
    "    return data, Y"
   ]
  },
  {
   "cell_type": "code",
   "execution_count": null,
   "metadata": {
    "id": "Kuv3P6ahBQOV"
   },
   "outputs": [],
   "source": [
    "# Loading Training Data & Val Data\n",
    "indices = indexing_tokens()\n",
    "training_data, training_labels = get_data(indices, longest_num_tokens)\n",
    "val_data, val_labels = get_data(indices, longest_num_tokens, mode='val')"
   ]
  },
  {
   "cell_type": "code",
   "execution_count": null,
   "metadata": {
    "id": "NLYI3st5BQ-f"
   },
   "outputs": [],
   "source": [
    "print('Number of training:', len(training_data))\n",
    "print('Number of validation:', len(val_data))\n",
    "print('Length of corpus:', len(indices))"
   ]
  },
  {
   "cell_type": "code",
   "execution_count": null,
   "metadata": {
    "id": "Q5Y91DmNBWQo"
   },
   "outputs": [],
   "source": [
    "# Create tensors of train & val\n",
    "train_tensor = torch.tensor(training_data)\n",
    "train_labels_tensor = torch.tensor(training_labels)\n",
    "val_tensor = torch.tensor(val_data)\n",
    "val_labels_tensor = torch.tensor(training_labels)"
   ]
  },
  {
   "cell_type": "code",
   "execution_count": null,
   "metadata": {
    "id": "D-aEUFR7CDxR"
   },
   "outputs": [],
   "source": [
    "print('Train Tensor:', train_tensor.shape)\n",
    "print('Val Tensor:', val_tensor.shape)"
   ]
  },
  {
   "cell_type": "code",
   "execution_count": null,
   "metadata": {
    "id": "5V8feYElCGUp"
   },
   "outputs": [],
   "source": [
    "num_embeddings = 122545\n",
    "embedding_dim = 300\n",
    "hidden_dim = 256\n",
    "sequence_len = 252\n",
    "output_dim = 2\n",
    "print_every = 400\n",
    "batch_size = 32"
   ]
  },
  {
   "cell_type": "code",
   "execution_count": null,
   "metadata": {
    "id": "0Ute8eQpCar7"
   },
   "outputs": [],
   "source": [
    "class MyModel(nn.Module):\n",
    "  pass\n",
    "  ##################\n",
    "  #                #\n",
    "  #     TODO:      #\n",
    "  #                #\n",
    "  ##################"
   ]
  },
  {
   "cell_type": "code",
   "execution_count": null,
   "metadata": {
    "id": "7Teia3SwDFIy"
   },
   "outputs": [],
   "source": [
    "model = MyModel(num_embeddings, embedding_dim, hidden_dim, output_dim)\n",
    "model = model.cuda()"
   ]
  },
  {
   "cell_type": "code",
   "execution_count": null,
   "metadata": {
    "id": "_9wKInieDM0X"
   },
   "outputs": [],
   "source": [
    "mini_trains = DataLoader(train_tensor, batch_size=batch_size)\n",
    "mini_train_labels = DataLoader(training_labels, batch_size=batch_size)\n",
    "\n",
    "mini_vals = DataLoader(val_tensor, batch_size=batch_size)\n",
    "mini_val_labels = DataLoader(val_labels, batch_size=batch_size)"
   ]
  },
  {
   "cell_type": "code",
   "execution_count": null,
   "metadata": {
    "id": "qRC2UKTODWf9"
   },
   "outputs": [],
   "source": [
    "iterator = iter(mini_trains)\n",
    "print(next(iterator).shape)\n",
    "\n",
    "iterator = iter(mini_train_labels)\n",
    "print(next(iterator).shape)"
   ]
  },
  {
   "cell_type": "code",
   "execution_count": null,
   "metadata": {
    "id": "WFc1ieyZDXtY"
   },
   "outputs": [],
   "source": [
    "# Training Procedure\n",
    "def train(num_epoch, model, mini_trains, mini_train_labels, mini_vals, mini_val_labels, device, loss_function, optimizer):\n",
    "  for epoch in range(num_epoch):\n",
    "    num_iters = 0\n",
    "    for x, y in zip(mini_trains, mini_train_labels):\n",
    "      model.train()\n",
    "      x = x.to(device)\n",
    "      y = y.to(device)\n",
    "      scores = model(x)  \n",
    "      loss = loss_function(scores, y)\n",
    "      optimizer.zero_grad()\n",
    "      loss.backward()\n",
    "      optimizer.step()\n",
    "      if num_iters % print_every == 0:\n",
    "        evaluate_predictor(model, epoch, mini_vals, mini_val_labels, device)\n",
    "      num_iters += 1"
   ]
  },
  {
   "cell_type": "code",
   "execution_count": null,
   "metadata": {
    "id": "FiRwQWQTDgzG"
   },
   "outputs": [],
   "source": [
    "# Evaluate Procedure\n",
    "def evaluate_predictor(model, epoch, mini_vals, mini_val_labels, device):\n",
    "  model.eval()\n",
    "  with torch.no_grad():\n",
    "    acc_count = 0\n",
    "    for x, y in zip(mini_vals, mini_val_labels):\n",
    "      x=x.to(device)\n",
    "      y=y.to(device)\n",
    "      scores=model(x)\n",
    "      predictions=scores.max(1)[1]\n",
    "      acc = predictions.eq(y).sum().item()\n",
    "      acc_count += acc\n",
    "    print(f'Epoch[{epoch+1}] Acc: {acc_count/len(val_data)}')"
   ]
  },
  {
   "cell_type": "code",
   "execution_count": null,
   "metadata": {
    "id": "qsRrdh9TDkwb"
   },
   "outputs": [],
   "source": [
    "loss_function = torch.nn.CrossEntropyLoss()\n",
    "optimizer = optim.Adam(model.parameters(), lr=1e-3)"
   ]
  },
  {
   "cell_type": "code",
   "execution_count": null,
   "metadata": {
    "id": "FaViXpCwDmvp"
   },
   "outputs": [],
   "source": [
    "# Start training \n",
    "train(6, model, mini_trains, mini_train_labels, mini_vals, mini_val_labels, device, loss_function, optimizer)"
   ]
  },
  {
   "cell_type": "code",
   "execution_count": null,
   "metadata": {
    "id": "ndRyHLHxDpGp"
   },
   "outputs": [],
   "source": []
  }
 ],
 "metadata": {
  "accelerator": "GPU",
  "colab": {
   "authorship_tag": "ABX9TyMgz+bC0crLJ49uBVS1/pUp",
   "provenance": []
  },
  "gpuClass": "standard",
  "kernelspec": {
   "display_name": "Python 3",
   "language": "python",
   "name": "python3"
  },
  "language_info": {
   "codemirror_mode": {
    "name": "ipython",
    "version": 3
   },
   "file_extension": ".py",
   "mimetype": "text/x-python",
   "name": "python",
   "nbconvert_exporter": "python",
   "pygments_lexer": "ipython3",
   "version": "3.8.5"
  }
 },
 "nbformat": 4,
 "nbformat_minor": 1
}
