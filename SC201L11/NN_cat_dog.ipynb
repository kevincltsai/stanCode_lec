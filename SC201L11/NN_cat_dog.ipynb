{
 "cells": [
  {
   "cell_type": "code",
   "execution_count": null,
   "metadata": {},
   "outputs": [],
   "source": [
    "import numpy as np\n",
    "from PIL import Image\n",
    "import matplotlib.pyplot as plt\n",
    "import os\n",
    "import random"
   ]
  },
  {
   "cell_type": "code",
   "execution_count": null,
   "metadata": {},
   "outputs": [],
   "source": []
  },
  {
   "cell_type": "code",
   "execution_count": null,
   "metadata": {},
   "outputs": [],
   "source": [
    "# Load data\n",
    "file_path = 'train/'\n",
    "data_lst = []\n",
    "for filename in os.listdir(file_path):\n",
    "    if 'dog' not in filename and 'cat' not in filename:\n",
    "        continue\n",
    "    real_file_path = file_path + filename\n",
    "    img = Image.open(real_file_path)\n",
    "    img = img.resize((64, 64))\n",
    "    data = np.array(img)\n",
    "    data = data.reshape(64*64*3, 1)\n",
    "    if 'cat' in filename:\n",
    "        data_lst.append((data, 1, img))\n",
    "    elif 'dog' in filename:\n",
    "        data_lst.append((data, 0, img))"
   ]
  },
  {
   "cell_type": "code",
   "execution_count": null,
   "metadata": {},
   "outputs": [],
   "source": [
    "X_lst = list(data_lst[i][0] for i in range(len(data_lst)))\n",
    "Y_lst = list(data_lst[i][1] for i in range(len(data_lst)))\n",
    "img_lst = list(data_lst[i][2] for i in range(len(data_lst)))"
   ]
  },
  {
   "cell_type": "code",
   "execution_count": null,
   "metadata": {},
   "outputs": [],
   "source": [
    "# Convert Python list to numpy array\n",
    "X = np.array(X_lst)\n",
    "Y = np.array(Y_lst)"
   ]
  },
  {
   "cell_type": "code",
   "execution_count": null,
   "metadata": {},
   "outputs": [],
   "source": [
    "# Convert to array with correct dimensions\n",
    "X = X.reshape(X.shape[0], X.shape[1])\n",
    "Y = Y.reshape(Y.shape[0], 1)\n",
    "X = X.T\n",
    "Y = Y.T\n",
    "print('X.shape:', X.shape)\n",
    "print('Y.shaoe:', Y.shape)"
   ]
  },
  {
   "cell_type": "code",
   "execution_count": null,
   "metadata": {},
   "outputs": [],
   "source": [
    "# Normalization\n",
    "min_X = np.min(X)\n",
    "max_X = np.max(X)\n",
    "X = (X - min_X)/(max_X - min_X)"
   ]
  },
  {
   "cell_type": "code",
   "execution_count": null,
   "metadata": {},
   "outputs": [],
   "source": [
    "# You should see 5530865.372549014 or 5531484.431372557\n",
    "# (Don't worry if value deviates from this)\n",
    "print(np.sum(X))"
   ]
  },
  {
   "cell_type": "code",
   "execution_count": null,
   "metadata": {},
   "outputs": [],
   "source": [
    "# Initializing parameters of a 2-layer neural network\n",
    "np.random.seed(0)\n",
    "N0, m = X.shape\n",
    "N1 = 10\n",
    "N2 = 1\n",
    "# Initialize W1\n",
    "\n",
    "# Initialize B1\n",
    "\n",
    "# Initialize W2\n",
    "\n",
    "# Initialize B2"
   ]
  },
  {
   "cell_type": "code",
   "execution_count": null,
   "metadata": {},
   "outputs": [],
   "source": [
    "# You should see 32.838553644951105\n",
    "print(np.sum(W1))"
   ]
  },
  {
   "cell_type": "code",
   "execution_count": null,
   "metadata": {},
   "outputs": [],
   "source": [
    "# You should see -1.0433989293244808\n",
    "print(np.sum(B1))"
   ]
  },
  {
   "cell_type": "code",
   "execution_count": null,
   "metadata": {},
   "outputs": [],
   "source": [
    "# You should see -0.4229774016622794\n",
    "print(np.sum(W2))"
   ]
  },
  {
   "cell_type": "code",
   "execution_count": null,
   "metadata": {},
   "outputs": [],
   "source": [
    "# You should see -0.4841141325352224\n",
    "print(np.sum(B2))"
   ]
  },
  {
   "cell_type": "code",
   "execution_count": null,
   "metadata": {},
   "outputs": [],
   "source": []
  },
  {
   "cell_type": "code",
   "execution_count": null,
   "metadata": {},
   "outputs": [],
   "source": [
    "#################### Training ####################\n",
    "alpha = 0.02\n",
    "cost_history = []\n",
    "for epoch in range(6000):\n",
    "    \n",
    "    # Forward Pass\n",
    "    # TODO:\n",
    "    \n",
    "    # Backward Pass\n",
    "    # TODO:\n",
    "    \n",
    "    # Updates \n",
    "    # TODO:\n",
    "    "
   ]
  },
  {
   "cell_type": "code",
   "execution_count": null,
   "metadata": {},
   "outputs": [],
   "source": [
    "plot_x = list(range(len(cost_history)))\n",
    "plot_y = cost_history\n",
    "plt.plot(plot_x, plot_y)\n",
    "plt.title(\"Costs over iterations\", color = 'blue', fontdict = {'fontsize': 20})"
   ]
  },
  {
   "cell_type": "code",
   "execution_count": null,
   "metadata": {},
   "outputs": [],
   "source": []
  },
  {
   "cell_type": "code",
   "execution_count": null,
   "metadata": {},
   "outputs": [],
   "source": [
    "count = 0\n",
    "K1 = np.dot(W1.T, X) + B1\n",
    "A1 = np.maximum(0, K1)\n",
    "scores = np.dot(W2.T, A1) + B2\n",
    "predictions = np.where(scores>0, 1, 0)\n",
    "acc_arr = np.equal(predictions, Y)\n",
    "print('Training Acc:', np.sum(acc_arr)/m)"
   ]
  },
  {
   "cell_type": "code",
   "execution_count": null,
   "metadata": {},
   "outputs": [],
   "source": []
  },
  {
   "cell_type": "code",
   "execution_count": null,
   "metadata": {},
   "outputs": [],
   "source": [
    "#################### Testing #################### "
   ]
  },
  {
   "cell_type": "code",
   "execution_count": null,
   "metadata": {},
   "outputs": [],
   "source": [
    "# file_path = 'test/'\n",
    "# X_test = []\n",
    "# Y_test = []\n",
    "# for filename in os.listdir(file_path):\n",
    "#     if 'cat' not in filename and 'dog' not in filename:\n",
    "#         continue\n",
    "#     real_file_path = file_path+filename\n",
    "#     img = Image.open(real_file_path)\n",
    "#     img = img.resize((64, 64))\n",
    "#     arr = np.array(img)\n",
    "#     arr = arr.reshape(64*64*3, 1)\n",
    "#     arr = (arr - min_X) / (max_X - min_X)\n",
    "#     X_test.append(arr)\n",
    "#     if 'cat' in filename:\n",
    "#         Y_test.append(1)\n",
    "#     else:\n",
    "#         Y_test.append(0)"
   ]
  },
  {
   "cell_type": "code",
   "execution_count": null,
   "metadata": {},
   "outputs": [],
   "source": [
    "# X_test = np.asarray(X_test)\n",
    "# Y_test = np.asarray(Y_test)\n",
    "# num_data = 100\n",
    "# Y_test = Y_test.reshape(1, 100)\n",
    "# print('Y_test.shape:', Y_test.shape)\n",
    "# X_test = X_test.reshape(X_test.shape[0], X_test.shape[1])\n",
    "# X_test = X_test.T\n",
    "# print('X_test.shape:',X_test.shape)"
   ]
  },
  {
   "cell_type": "code",
   "execution_count": null,
   "metadata": {},
   "outputs": [],
   "source": [
    "# K1 = np.dot(W1.T, X_test) + B1\n",
    "# A1 = np.maximum(0, K1)\n",
    "# K2 = np.dot(W2.T, A1) + B2\n",
    "# val_predictions = np.where(K2>0, 1, 0)\n",
    "# acc_arr = np.equal(val_predictions, Y_test)\n",
    "# correct = np.sum(acc_arr)"
   ]
  },
  {
   "cell_type": "code",
   "execution_count": null,
   "metadata": {},
   "outputs": [],
   "source": [
    "# print('Number of data:', num_data)\n",
    "# print('Val Accuracy:', correct/num_data)"
   ]
  },
  {
   "cell_type": "code",
   "execution_count": null,
   "metadata": {},
   "outputs": [],
   "source": []
  }
 ],
 "metadata": {
  "kernelspec": {
   "display_name": "Python 3",
   "language": "python",
   "name": "python3"
  },
  "language_info": {
   "codemirror_mode": {
    "name": "ipython",
    "version": 3
   },
   "file_extension": ".py",
   "mimetype": "text/x-python",
   "name": "python",
   "nbconvert_exporter": "python",
   "pygments_lexer": "ipython3",
   "version": "3.8.5"
  }
 },
 "nbformat": 4,
 "nbformat_minor": 4
}
