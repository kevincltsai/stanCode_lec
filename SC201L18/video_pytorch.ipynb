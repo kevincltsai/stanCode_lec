{
 "cells": [
  {
   "cell_type": "code",
   "execution_count": null,
   "metadata": {
    "colab": {
     "base_uri": "https://localhost:8080/"
    },
    "executionInfo": {
     "elapsed": 18399,
     "status": "ok",
     "timestamp": 1660481047750,
     "user": {
      "displayName": "",
      "userId": "12446733118162874804"
     },
     "user_tz": -480
    },
    "id": "8Q4lcMH7LrCq",
    "outputId": "c65a3bee-166f-4c7a-d7a0-b6c994a1405e",
    "pycharm": {
     "is_executing": true
    }
   },
   "outputs": [],
   "source": [
    "# This mounts your Google Drive to the Colab VM.\n",
    "from google.colab import drive\n",
    "drive.mount('/content/drive', force_remount=True)\n",
    "\n",
    "# Get to the folder we are at\n",
    "FOLDERNAME = 'Colab\\ Notebooks/SC201L18'\n",
    "%cd drive/MyDrive/$FOLDERNAME"
   ]
  },
  {
   "cell_type": "code",
   "execution_count": null,
   "metadata": {
    "colab": {
     "base_uri": "https://localhost:8080/"
    },
    "executionInfo": {
     "elapsed": 284,
     "status": "ok",
     "timestamp": 1660481073893,
     "user": {
      "displayName": "",
      "userId": "12446733118162874804"
     },
     "user_tz": -480
    },
    "id": "-ofOlYbiMmkQ",
    "outputId": "c3f323be-a537-4f88-c2d4-2c99de4c728e",
    "pycharm": {
     "is_executing": true
    }
   },
   "outputs": [],
   "source": [
    "%ls"
   ]
  },
  {
   "cell_type": "code",
   "execution_count": null,
   "metadata": {
    "colab": {
     "base_uri": "https://localhost:8080/"
    },
    "executionInfo": {
     "elapsed": 2545,
     "status": "ok",
     "timestamp": 1660481077654,
     "user": {
      "displayName": "",
      "userId": "12446733118162874804"
     },
     "user_tz": -480
    },
    "id": "p4IaOGV-Mox9",
    "outputId": "c224402f-267c-470a-e94e-d59c9a9ba7a8",
    "pycharm": {
     "is_executing": true
    }
   },
   "outputs": [],
   "source": [
    "import torch\n",
    "torch.manual_seed(2)  # Seed for same output"
   ]
  },
  {
   "cell_type": "code",
   "execution_count": null,
   "metadata": {},
   "outputs": [],
   "source": [
    "if torch.cuda.is_available():\n",
    "  device = torch.device('cuda')\n",
    "else:\n",
    "  device = torch.device('cpu')\n",
    "print('Device:', device)"
   ]
  },
  {
   "cell_type": "code",
   "execution_count": null,
   "metadata": {
    "executionInfo": {
     "elapsed": 413,
     "status": "ok",
     "timestamp": 1660481079426,
     "user": {
      "displayName": "",
      "userId": "12446733118162874804"
     },
     "user_tz": -480
    },
    "id": "HX2XZsy8MsxH"
   },
   "outputs": [],
   "source": [
    "import cv2\n",
    "import numpy as np\n",
    "import os\n",
    "IMG_SIZE = 64\n",
    "\n",
    "def load_video(path, max_frames=0, resize=(IMG_SIZE, IMG_SIZE)):\n",
    "  cap = cv2.VideoCapture(path)\n",
    "  frames = []\n",
    "  can_use = False\n",
    "  frame_count = 0\n",
    "  try:\n",
    "    while True:\n",
    "      success, frame = cap.read()\n",
    "      if not success:\n",
    "        break\n",
    "      frame = cv2.resize(frame, resize)\n",
    "      frames.append(frame)\n",
    "      frame_count += 1\n",
    "      if len(frames) == max_frames:\n",
    "        can_use = True\n",
    "        break\n",
    "  finally:\n",
    "    cap.release()\n",
    "  return can_use, np.array(frames)/255"
   ]
  },
  {
   "cell_type": "code",
   "execution_count": null,
   "metadata": {
    "executionInfo": {
     "elapsed": 23735,
     "status": "ok",
     "timestamp": 1660481105504,
     "user": {
      "displayName": "",
      "userId": "12446733118162874804"
     },
     "user_tz": -480
    },
    "id": "Mpk8JYk7M8dp"
   },
   "outputs": [],
   "source": [
    "train_path = 'train/'\n",
    "val_path = 'test/'\n",
    "folders = os.listdir(train_path)\n",
    "\n",
    "# Indexing for ture labels\n",
    "index_to_folder = {}\n",
    "for t, folder in enumerate(folders):\n",
    "  index_to_folder[folder] = t\n",
    "\n",
    "# Getting train data\n",
    "train_data = []\n",
    "train_label = []\n",
    "max_frames = 16\n",
    "for folder in folders:\n",
    "  real_folder_path = os.path.join(train_path, folder)\n",
    "  for video_name in os.listdir(real_folder_path):\n",
    "    real_video_path = os.path.join(real_folder_path, video_name)\n",
    "    can_use, video = load_video(real_video_path, max_frames)\n",
    "    if can_use:\n",
    "      train_data.append(video)\n",
    "      train_label.append(index_to_folder[folder])"
   ]
  },
  {
   "cell_type": "code",
   "execution_count": null,
   "metadata": {
    "colab": {
     "base_uri": "https://localhost:8080/"
    },
    "executionInfo": {
     "elapsed": 269,
     "status": "ok",
     "timestamp": 1660481140495,
     "user": {
      "displayName": "",
      "userId": "12446733118162874804"
     },
     "user_tz": -480
    },
    "id": "5v4Fo-5TNPDJ",
    "outputId": "872377e0-6ab3-4c03-e488-254d643af940",
    "pycharm": {
     "is_executing": true
    }
   },
   "outputs": [],
   "source": [
    "print('Number of data:', len(train_data))\n",
    "print('Data.shape:', train_data[0].shape)"
   ]
  },
  {
   "cell_type": "code",
   "execution_count": null,
   "metadata": {
    "executionInfo": {
     "elapsed": 113130,
     "status": "ok",
     "timestamp": 1660481265548,
     "user": {
      "displayName": "",
      "userId": "12446733118162874804"
     },
     "user_tz": -480
    },
    "id": "AEqWqU-jNQtk"
   },
   "outputs": [],
   "source": [
    "# Getting val data\n",
    "val_data = []\n",
    "val_label = []\n",
    "for folder in folders:\n",
    "  real_folder_path = os.path.join(val_path, folder)\n",
    "  for video_name in os.listdir(real_folder_path):\n",
    "    real_video_path = os.path.join(real_folder_path, video_name)\n",
    "    can_use, video = load_video(real_video_path, max_frames)\n",
    "    if can_use:\n",
    "      val_data.append(video)\n",
    "      val_label.append(index_to_folder[folder])"
   ]
  },
  {
   "cell_type": "code",
   "execution_count": null,
   "metadata": {
    "colab": {
     "base_uri": "https://localhost:8080/"
    },
    "executionInfo": {
     "elapsed": 247,
     "status": "ok",
     "timestamp": 1660481292131,
     "user": {
      "displayName": "",
      "userId": "12446733118162874804"
     },
     "user_tz": -480
    },
    "id": "P1qyAgRDNZBV",
    "outputId": "61373967-d775-40a2-d7f3-fba56ebd76c3",
    "pycharm": {
     "is_executing": true
    }
   },
   "outputs": [],
   "source": [
    "num_val = len(val_label)\n",
    "print(num_val)"
   ]
  },
  {
   "cell_type": "code",
   "execution_count": null,
   "metadata": {
    "executionInfo": {
     "elapsed": 249,
     "status": "ok",
     "timestamp": 1660481517238,
     "user": {
      "displayName": "",
      "userId": "12446733118162874804"
     },
     "user_tz": -480
    },
    "id": "qDKFBqDKNa5w"
   },
   "outputs": [],
   "source": [
    "import random\n",
    "random.seed(1)\n",
    "train_shuffle_list = list(i for i in range(len(train_label)))\n",
    "random.shuffle(train_shuffle_list)\n",
    "val_shuffle_list = list(i for i in range(len(val_label)))\n",
    "random.shuffle(val_shuffle_list)\n",
    "\n",
    "new_train_data = []\n",
    "new_train_label = []\n",
    "for i in train_shuffle_list:\n",
    "  new_train_data.append(train_data[i])\n",
    "  new_train_label.append(train_label[i])\n",
    "# TODO: What did the error message tell us to do here?\n",
    "new_train_data = torch.tensor(new_train_data, dtype=torch.float32)\n",
    "new_train_label = torch.tensor(new_train_label)\n",
    "\n",
    "new_val_data = []\n",
    "new_val_label = []\n",
    "for i in val_shuffle_list:\n",
    "  new_val_data.append(val_data[i])\n",
    "  new_val_label.append(val_label[i])\n",
    "# TODO: What did the error message tell us to do here?\n",
    "new_val_data = torch.tensor(new_val_data, dtype=torch.float32)\n",
    "new_val_label = torch.tensor(new_val_label)"
   ]
  },
  {
   "cell_type": "code",
   "execution_count": null,
   "metadata": {
    "executionInfo": {
     "elapsed": 4,
     "status": "ok",
     "timestamp": 1660481517239,
     "user": {
      "displayName": "",
      "userId": "12446733118162874804"
     },
     "user_tz": -480
    },
    "id": "HAJoReDjN365"
   },
   "outputs": [],
   "source": [
    "from torch.utils.data import DataLoader\n",
    "batch_size = 8\n",
    "mini_train_data = DataLoader(new_train_data, batch_size=batch_size)\n",
    "mini_train_label = DataLoader(new_train_label, batch_size=batch_size)\n",
    "mini_val_data = DataLoader(new_val_data, batch_size=batch_size)\n",
    "mini_val_label = DataLoader(new_val_label, batch_size=batch_size)"
   ]
  },
  {
   "cell_type": "code",
   "execution_count": null,
   "metadata": {
    "id": "QEehahkpN8fY"
   },
   "outputs": [],
   "source": [
    "print(next(iter(mini_train_data)).shape)"
   ]
  },
  {
   "cell_type": "code",
   "execution_count": null,
   "metadata": {
    "executionInfo": {
     "elapsed": 236,
     "status": "ok",
     "timestamp": 1660486217747,
     "user": {
      "displayName": "",
      "userId": "12446733118162874804"
     },
     "user_tz": -480
    },
    "id": "DqlB2kVmOCVr"
   },
   "outputs": [],
   "source": [
    "from torch.nn.modules.batchnorm import BatchNorm2d\n",
    "import torch.nn as nn\n",
    "class CNNLSTM(nn.Module):\n",
    "  def __init__(self, embedding_dim, hidden_dim, output_dim):\n",
    "    super().__init__()\n",
    "    #####################################\n",
    "    #                                   #\n",
    "    #               TODO:               #\n",
    "    #                                   #\n",
    "    #####################################\n",
    "\n",
    "  def forward(self, x):\n",
    "    # 8 x 16 x 64 x 64 x 3\n",
    "    # Get info from each F (Frame) -> Convolute each F\n",
    "    \n",
    "    # Get 1024 (embedding_dim) neurons from each frame\n",
    "    \n",
    "    # Pile up all embedding neurons from each frame to a new tensor\n",
    "    \n",
    "    # Feed into LSTM and return \n",
    "    pass\n",
    "    "
   ]
  },
  {
   "cell_type": "code",
   "execution_count": null,
   "metadata": {},
   "outputs": [],
   "source": [
    "embedding_dim = 1024\n",
    "hidden_dim = 256\n",
    "print_every = 100\n",
    "output_dim = len(index_to_folder)"
   ]
  },
  {
   "cell_type": "code",
   "execution_count": null,
   "metadata": {
    "executionInfo": {
     "elapsed": 2,
     "status": "ok",
     "timestamp": 1660486218827,
     "user": {
      "displayName": "",
      "userId": "12446733118162874804"
     },
     "user_tz": -480
    },
    "id": "y2ayekgXOdTc"
   },
   "outputs": [],
   "source": [
    "model = CNNLSTM(embedding_dim, hidden_dim, output_dim)\n",
    "model = model.cuda()"
   ]
  },
  {
   "cell_type": "code",
   "execution_count": null,
   "metadata": {
    "executionInfo": {
     "elapsed": 2,
     "status": "ok",
     "timestamp": 1660486219227,
     "user": {
      "displayName": "",
      "userId": "12446733118162874804"
     },
     "user_tz": -480
    },
    "id": "9cuzAKEsOLIu"
   },
   "outputs": [],
   "source": [
    "# Training Procedure\n",
    "def training(num_epoch, model, mini_trains, mini_train_labels, mini_vals, mini_val_labels, device, loss_function, optimizer):\n",
    "  for epoch in range(num_epoch):\n",
    "    num_iters = 0\n",
    "    train_label_iter = iter(mini_train_labels)\n",
    "    for x in mini_trains:\n",
    "      y = next(train_label_iter)\n",
    "      model.train()\n",
    "      x = x.to(device)\n",
    "      y = y.to(device)\n",
    "      scores = model(x)  \n",
    "      loss = loss_function(scores, y)\n",
    "      optimizer.zero_grad()\n",
    "      loss.backward()\n",
    "      optimizer.step()\n",
    "      if num_iters % 20 == 0:\n",
    "        evaluate_predictor(model, epoch, mini_vals, mini_val_labels, device, num_iters)\n",
    "      num_iters += 1"
   ]
  },
  {
   "cell_type": "code",
   "execution_count": null,
   "metadata": {
    "executionInfo": {
     "elapsed": 3,
     "status": "ok",
     "timestamp": 1660486220214,
     "user": {
      "displayName": "",
      "userId": "12446733118162874804"
     },
     "user_tz": -480
    },
    "id": "E5WDqtlOOQ3m"
   },
   "outputs": [],
   "source": [
    "# Validating Procedure\n",
    "def evaluate_predictor(model, epoch, mini_vals, mini_val_labels, device, num_data):\n",
    "  model.eval()\n",
    "  val_label_iter = iter(mini_val_labels)\n",
    "  with torch.no_grad():\n",
    "    acc_count = 0\n",
    "    for x in mini_vals:\n",
    "      y = next(val_label_iter)\n",
    "      x = x.to(device)\n",
    "      y = y.to(device)\n",
    "      scores = model(x)\n",
    "      predictions = scores.max(1)[1]\n",
    "      acc = predictions.eq(y).sum().item()\n",
    "      acc_count += acc\n",
    "    print(f'Epoch[{epoch+1}] Acc: {acc_count/num_val}')"
   ]
  },
  {
   "cell_type": "code",
   "execution_count": null,
   "metadata": {
    "executionInfo": {
     "elapsed": 3,
     "status": "ok",
     "timestamp": 1660486221260,
     "user": {
      "displayName": "",
      "userId": "12446733118162874804"
     },
     "user_tz": -480
    },
    "id": "-yYVWV74OS1U"
   },
   "outputs": [],
   "source": [
    "import torch.optim as optim\n",
    "loss_function = nn.CrossEntropyLoss()\n",
    "optimizer = optim.SGD(model.parameters(), lr=1e-3, momentum=0.9, nesterov=True)"
   ]
  },
  {
   "cell_type": "code",
   "execution_count": null,
   "metadata": {
    "colab": {
     "base_uri": "https://localhost:8080/",
     "height": 322
    },
    "executionInfo": {
     "elapsed": 5,
     "status": "error",
     "timestamp": 1660486222317,
     "user": {
      "displayName": "",
      "userId": "12446733118162874804"
     },
     "user_tz": -480
    },
    "id": "dSJeqpvQOhII",
    "outputId": "6dc4e02b-be3c-405b-8e07-2c9f99f03e2f",
    "pycharm": {
     "is_executing": true
    }
   },
   "outputs": [],
   "source": [
    "training(7, model, mini_train_data, mini_train_label, mini_val_data, mini_val_label, device, loss_function, optimizer)"
   ]
  },
  {
   "cell_type": "code",
   "execution_count": null,
   "metadata": {
    "id": "Ox1S3F50OjyN"
   },
   "outputs": [],
   "source": []
  }
 ],
 "metadata": {
  "accelerator": "GPU",
  "colab": {
   "collapsed_sections": [],
   "name": "video_pytorch.ipynb",
   "provenance": []
  },
  "gpuClass": "standard",
  "kernelspec": {
   "display_name": "Python 3",
   "language": "python",
   "name": "python3"
  },
  "language_info": {
   "codemirror_mode": {
    "name": "ipython",
    "version": 3
   },
   "file_extension": ".py",
   "mimetype": "text/x-python",
   "name": "python",
   "nbconvert_exporter": "python",
   "pygments_lexer": "ipython3",
   "version": "3.8.5"
  }
 },
 "nbformat": 4,
 "nbformat_minor": 1
}
