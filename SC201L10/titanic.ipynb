{
 "cells": [
  {
   "cell_type": "code",
   "execution_count": 101,
   "metadata": {},
   "outputs": [],
   "source": [
    "\n",
    "def data_preprocessing(mode='train'):\n",
    "\t\"\"\"\n",
    "\t:param mode: str, indicating if it's training mode or testing mode\n",
    "\t:return: Tuple(numpy_array, numpy_array), the first one is X, the other one is Y\n",
    "\t\"\"\"\n",
    "\tdata_lst = []\n",
    "\tlabel_lst = []\n",
    "\tfirst_data = True\n",
    "\tif mode == 'train':\n",
    "\t\twith open(TRAIN, 'r') as f:\n",
    "\t\t\tfor line in f:\n",
    "\t\t\t\tdata = line.split(',')\n",
    "\t\t\t\t# ['0PassengerId', '1Survived', '2Pclass', '3Last Name', '4First Name', '5Sex', '6Age', '7SibSp', '8Parch', '9Ticket', '10Fare', '11Cabin', '12Embarked']\n",
    "\t\t\t\tif first_data:\n",
    "\t\t\t\t\tfirst_data = False\n",
    "\t\t\t\t\tcontinue\n",
    "\t\t\t\tif not data[6]:\n",
    "\t\t\t\t\tcontinue\n",
    "\t\t\t\tlabel = [int(data[1])]\n",
    "\t\t\t\tif data[5] == 'male':\n",
    "\t\t\t\t\tsex = 1\n",
    "\t\t\t\telse:\n",
    "\t\t\t\t\tsex = 0\n",
    "\t\t\t\t# ['Pclass', 'Sex', 'Age', 'SibSp', 'Parch', 'Fare']\n",
    "\t\t\t\tpassenger_lst = [int(data[2]), sex, float(data[6]), int(data[7]), int(data[8]), float(data[10])]\n",
    "\t\t\t\tdata_lst.append(passenger_lst)\n",
    "\t\t\t\tlabel_lst.append(label)\n",
    "\telse:\n",
    "\t\tpass\n",
    "\treturn np.array(data_lst).T, np.array(label_lst).T\n",
    "\n",
    "def normalize(X):\n",
    "    \"\"\"\n",
    "    :param X: numpy_array, the dimension is (n, m)\n",
    "    :return: numpy_array, the values are normalized, where the dimension is still (n, m)\n",
    "    \"\"\"\n",
    "    min_arr = np.amin(X, axis = 1, keepdims = True)\n",
    "    max_arr = np.amax(X, axis = 1, keepdims = True)\n",
    "    return (X - min_arr) / (max_arr - min_arr)\n",
    "\n"
   ]
  },
  {
   "cell_type": "code",
   "execution_count": 104,
   "metadata": {},
   "outputs": [],
   "source": [
    "\n",
    "def batch_gradient_descent(X, Y):\n",
    "\t\"\"\"\n",
    "\t:param X: numpy_array, the array holding all the training data\n",
    "\t:param Y: numpy_array, the array holding all the ture labels in X\n",
    "\t:return: numpy_array, the trained weights with dimension (n, m)\n",
    "\t\"\"\"\n",
    "\tnp.random.seed(0)\n",
    "\tn,m = X.shape\n",
    "\n",
    "\t# Initialize w and b\n",
    "\t####################\n",
    "\t#                  #\n",
    "\t#       TODO:      #\n",
    "\t#                  #\n",
    "\t####################\n",
    "\n",
    "\n",
    "\tW = np.random.rand(n,1) - 0.5 # -0.5 : zero centre\n",
    "\tb = np.random.rand(1,1) - 0.5\n",
    "\n",
    "\t# Start Training\n",
    "\t####################\n",
    "\t#                  #\n",
    "\t#       TODO:      #\n",
    "\t#                  #\n",
    "\t####################\n",
    "\n",
    "\tfor epoch in range(NUM_EPOCHS):\n",
    "    \t\t#Forward prop\n",
    "\n",
    "\t\t\tK = W.T.dot(X) + b\n",
    "\t\t\tH = 1/(1+np.exp(-K))\n",
    "\t\t\tL = -(Y*np.log(H)+(1-Y)*np.log(1-H))\n",
    "\t\t\tJ = (1/m)*np.sum(L)\n",
    "\n",
    "\t\t\tif epoch % 10000 == 0:\n",
    "    \t\t\t\tprint('Cost:', J)\n",
    "\t\t\t\n",
    "\t\t\t#W = W - ALPHA * ((1/m)) * np.sum(X.dot((H-Y).T), axis=1, keepdims=True)\n",
    "\t\t\tW = W - ALPHA * ((1/m)) * X.dot((H-Y).T)\n",
    "\t\t\t#b = b - ALPHA * ((1/m) * np.sum(H-Y))\n",
    "\treturn W, b\n"
   ]
  },
  {
   "cell_type": "code",
   "execution_count": 105,
   "metadata": {},
   "outputs": [
    {
     "name": "stdout",
     "output_type": "stream",
     "text": [
      "Y.shape (1, 714)\n",
      "X.shape (6, 714)\n",
      "Cost: 0.7420080950021505\n",
      "Cost: 0.5217881448785981\n",
      "Cost: 0.5170357279862925\n",
      "Cost: 0.5147853895420947\n",
      "Cost: 0.513581704643919\n",
      "Cost: 0.5128975609257845\n",
      "Acc: 0.7773109243697479\n",
      "Total run time (Batch-GD): 2.5509510040283203\n"
     ]
    }
   ],
   "source": [
    "import time\n",
    "\n",
    "\n",
    "TRAIN = 'titanic_data/train.csv'\n",
    "NUM_EPOCHS = 60000\n",
    "ALPHA = 0.05\n",
    "\n",
    "start = time.time()\n",
    "X_train, Y = data_preprocessing()\n",
    "print('Y.shape', Y.shape)\n",
    "print('X.shape', X_train.shape)\n",
    "# ['Pclass', 'Sex', 'Age', 'SibSp', 'Parch', 'Fare']\n",
    "n, m = X_train.shape\n",
    "X = normalize(X_train)\n",
    "W, b = batch_gradient_descent(X, Y)\n",
    "#print(W)\n",
    "\n",
    "scores = W.T.dot(X) + b\n",
    "predictions = np.where(scores > 0, 1,0)\n",
    "acc = np.equal(predictions, Y)\n",
    "num_acc = np.sum(acc)\n",
    "print('Acc:', num_acc/m)\n",
    "###############################\n",
    "#                             #\n",
    "#            TODO:            #\n",
    "#                             #\n",
    "###############################\n",
    "end = time.time()\n",
    "print('Total run time (Batch-GD):', end-start)"
   ]
  },
  {
   "cell_type": "code",
   "execution_count": null,
   "metadata": {},
   "outputs": [],
   "source": []
  },
  {
   "cell_type": "code",
   "execution_count": 106,
   "metadata": {},
   "outputs": [],
   "source": [
    "np.random.seed(0)\n",
    "n,m = X.shape\n",
    "\n",
    "# Initialize w and b\n",
    "####################\n",
    "#                  #\n",
    "#       TODO:      #\n",
    "#                  #\n",
    "####################\n",
    "\n",
    "\n",
    "W = np.random.rand(n,1) - 0.5 # -0.5 : zero centre\n",
    "b = np.random.rand(1,1) - 0.5\n",
    "\n",
    "# Start Training\n",
    "####################\n",
    "#                  #\n",
    "#       TODO:      #\n",
    "#                  #\n",
    "####################\n",
    "\n",
    "K = W.T.dot(X) + b\n",
    "H = 1/(1+np.exp(-K))\n",
    "L = -(Y*np.log(H)+(1-Y)*np.log(1-H))\n",
    "J = (1/m)*np.sum(L)\n",
    "\n",
    "\n",
    "#W = W - ALPHA * ((1/m)) * np.sum(X.dot((H-Y).T), axis=1, keepdims=True)\n",
    "W = W - ALPHA * ((1/m)) * X.dot((H-Y).T)\n",
    "#b = b - ALPHA * ((1/m) * np.sum(H-Y))"
   ]
  },
  {
   "cell_type": "code",
   "execution_count": 107,
   "metadata": {},
   "outputs": [
    {
     "data": {
      "text/plain": [
       "array([[112.45540762],\n",
       "       [159.73898287],\n",
       "       [ 40.17331425],\n",
       "       [ 10.45838889],\n",
       "       [  1.25952428],\n",
       "       [ -3.62167248]])"
      ]
     },
     "execution_count": 107,
     "metadata": {},
     "output_type": "execute_result"
    }
   ],
   "source": [
    "X.dot((H-Y).T)"
   ]
  },
  {
   "cell_type": "code",
   "execution_count": 112,
   "metadata": {},
   "outputs": [
    {
     "data": {
      "text/plain": [
       "array([[112.45540762],\n",
       "       [159.73898287],\n",
       "       [ 40.17331425],\n",
       "       [ 10.45838889],\n",
       "       [  1.25952428],\n",
       "       [ -3.62167248]])"
      ]
     },
     "execution_count": 112,
     "metadata": {},
     "output_type": "execute_result"
    }
   ],
   "source": [
    "X.dot((H-Y).T)"
   ]
  },
  {
   "cell_type": "code",
   "execution_count": 117,
   "metadata": {},
   "outputs": [],
   "source": [
    "arr = np.array([[4,9,5],[3,2,9],[9,9,8],[1,2,3]])"
   ]
  },
  {
   "cell_type": "code",
   "execution_count": 118,
   "metadata": {},
   "outputs": [
    {
     "data": {
      "text/plain": [
       "array([4, 9, 5])"
      ]
     },
     "execution_count": 118,
     "metadata": {},
     "output_type": "execute_result"
    }
   ],
   "source": [
    "arr[0]"
   ]
  },
  {
   "cell_type": "code",
   "execution_count": 121,
   "metadata": {},
   "outputs": [
    {
     "data": {
      "text/plain": [
       "array([3, 2, 9])"
      ]
     },
     "execution_count": 121,
     "metadata": {},
     "output_type": "execute_result"
    }
   ],
   "source": [
    "arr[1]"
   ]
  },
  {
   "cell_type": "code",
   "execution_count": null,
   "metadata": {},
   "outputs": [],
   "source": []
  }
 ],
 "metadata": {
  "kernelspec": {
   "display_name": "finlab",
   "language": "python",
   "name": "python3"
  },
  "language_info": {
   "codemirror_mode": {
    "name": "ipython",
    "version": 3
   },
   "file_extension": ".py",
   "mimetype": "text/x-python",
   "name": "python",
   "nbconvert_exporter": "python",
   "pygments_lexer": "ipython3",
   "version": "3.9.2"
  },
  "orig_nbformat": 4
 },
 "nbformat": 4,
 "nbformat_minor": 2
}
