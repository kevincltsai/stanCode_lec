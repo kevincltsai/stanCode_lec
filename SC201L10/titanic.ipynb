{
 "cells": [
  {
   "cell_type": "code",
   "execution_count": 1,
   "metadata": {},
   "outputs": [],
   "source": [
    "\n",
    "def data_preprocessing(mode='train'):\n",
    "\t\"\"\"\n",
    "\t:param mode: str, indicating if it's training mode or testing mode\n",
    "\t:return: Tuple(numpy_array, numpy_array), the first one is X, the other one is Y\n",
    "\t\"\"\"\n",
    "\tdata_lst = []\n",
    "\tlabel_lst = []\n",
    "\tfirst_data = True\n",
    "\tif mode == 'train':\n",
    "\t\twith open(TRAIN, 'r') as f:\n",
    "\t\t\tfor line in f:\n",
    "\t\t\t\tdata = line.split(',')\n",
    "\t\t\t\t# ['0PassengerId', '1Survived', '2Pclass', '3Last Name', '4First Name', '5Sex', '6Age', '7SibSp', '8Parch', '9Ticket', '10Fare', '11Cabin', '12Embarked']\n",
    "\t\t\t\tif first_data:\n",
    "\t\t\t\t\tfirst_data = False\n",
    "\t\t\t\t\tcontinue\n",
    "\t\t\t\tif not data[6]:\n",
    "\t\t\t\t\tcontinue\n",
    "\t\t\t\tlabel = [int(data[1])]\n",
    "\t\t\t\tif data[5] == 'male':\n",
    "\t\t\t\t\tsex = 1\n",
    "\t\t\t\telse:\n",
    "\t\t\t\t\tsex = 0\n",
    "\t\t\t\t# ['Pclass', 'Sex', 'Age', 'SibSp', 'Parch', 'Fare']\n",
    "\t\t\t\tpassenger_lst = [int(data[2]), sex, float(data[6]), int(data[7]), int(data[8]), float(data[10])]\n",
    "\t\t\t\tdata_lst.append(passenger_lst)\n",
    "\t\t\t\tlabel_lst.append(label)\n",
    "\telse:\n",
    "\t\tpass\n",
    "\treturn np.array(data_lst).T, np.array(label_lst).T\n",
    "\n"
   ]
  },
  {
   "cell_type": "code",
   "execution_count": 18,
   "metadata": {},
   "outputs": [],
   "source": [
    "import numpy as np"
   ]
  },
  {
   "cell_type": "code",
   "execution_count": 19,
   "metadata": {},
   "outputs": [],
   "source": [
    "TRAIN = 'titanic_data/train.csv'\n",
    "NUM_EPOCHS = 60000\n",
    "ALPHA = 0.05\n",
    "\n",
    "X_train, Y = data_preprocessing()"
   ]
  },
  {
   "cell_type": "code",
   "execution_count": 29,
   "metadata": {},
   "outputs": [
    {
     "data": {
      "text/plain": [
       "array([[ 3.    ,  1.    ,  3.    , ...,  1.    ,  1.    ,  3.    ],\n",
       "       [ 1.    ,  0.    ,  0.    , ...,  0.    ,  1.    ,  1.    ],\n",
       "       [22.    , 38.    , 26.    , ..., 19.    , 26.    , 32.    ],\n",
       "       [ 1.    ,  1.    ,  0.    , ...,  0.    ,  0.    ,  0.    ],\n",
       "       [ 0.    ,  0.    ,  0.    , ...,  0.    ,  0.    ,  0.    ],\n",
       "       [ 7.25  , 71.2833,  7.925 , ..., 30.    , 30.    ,  7.75  ]])"
      ]
     },
     "execution_count": 29,
     "metadata": {},
     "output_type": "execute_result"
    }
   ],
   "source": [
    "X_train"
   ]
  },
  {
   "cell_type": "code",
   "execution_count": 32,
   "metadata": {},
   "outputs": [],
   "source": [
    "mode='train'\n",
    "data_lst = []\n",
    "label_lst = []\n",
    "first_data = True\n",
    "if mode == 'train':\n",
    "    with open(TRAIN, 'r') as f:\n",
    "        for line in f:\n",
    "            data = line.split(',')\n",
    "            # ['0PassengerId', '1Survived', '2Pclass', '3Last Name', '4First Name', '5Sex', '6Age', '7SibSp', '8Parch', '9Ticket', '10Fare', '11Cabin', '12Embarked']\n",
    "            if first_data:\n",
    "                first_data = False\n",
    "                continue\n",
    "            if not data[6]:\n",
    "                continue\n",
    "            label = [int(data[1])]\n",
    "            if data[5] == 'male':\n",
    "                sex = 1\n",
    "            else:\n",
    "                sex = 0\n",
    "            # ['Pclass', 'Sex', 'Age', 'SibSp', 'Parch', 'Fare']\n",
    "            passenger_lst = [int(data[2]), sex, float(data[6]), int(data[7]), int(data[8]), float(data[10])]\n",
    "            data_lst.append(passenger_lst)\n",
    "            label_lst.append(label)"
   ]
  },
  {
   "attachments": {},
   "cell_type": "markdown",
   "metadata": {},
   "source": []
  },
  {
   "cell_type": "code",
   "execution_count": 35,
   "metadata": {},
   "outputs": [],
   "source": [
    "X = np.array(data_lst).T"
   ]
  },
  {
   "cell_type": "code",
   "execution_count": 36,
   "metadata": {},
   "outputs": [
    {
     "data": {
      "text/plain": [
       "array([1.  , 0.  , 0.42, 0.  , 0.  , 0.  ])"
      ]
     },
     "execution_count": 36,
     "metadata": {},
     "output_type": "execute_result"
    }
   ],
   "source": [
    "min = np.amin(X, axis = 1)\n",
    "`ㄎㄎdㄎd//AFsdfs"
   ]
  },
  {
   "cell_type": "code",
   "execution_count": null,
   "metadata": {},
   "outputs": [],
   "source": [
    "fd"
   ]
  }
 ],
 "metadata": {
  "kernelspec": {
   "display_name": "finlab",
   "language": "python",
   "name": "python3"
  },
  "language_info": {
   "codemirror_mode": {
    "name": "ipython",
    "version": 3
   },
   "file_extension": ".py",
   "mimetype": "text/x-python",
   "name": "python",
   "nbconvert_exporter": "python",
   "pygments_lexer": "ipython3",
   "version": "3.9.2"
  },
  "orig_nbformat": 4
 },
 "nbformat": 4,
 "nbformat_minor": 2
}
