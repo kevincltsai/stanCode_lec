{
 "cells": [
  {
   "cell_type": "code",
   "execution_count": 1,
   "metadata": {},
   "outputs": [
    {
     "name": "stdout",
     "output_type": "stream",
     "text": [
      "/Users/kevintsai/Documents/GitHub/stanCode/SC201Assignment3\n"
     ]
    }
   ],
   "source": [
    "import os\n",
    "print(os.getcwd())"
   ]
  },
  {
   "cell_type": "code",
   "execution_count": 2,
   "metadata": {},
   "outputs": [],
   "source": [
    "import math\n",
    "import pandas as pd\n",
    "TRAIN_FILE = 'titanic_data/train.csv'\n",
    "TEST_FILE = 'titanic_data/test.csv'"
   ]
  },
  {
   "cell_type": "code",
   "execution_count": 115,
   "metadata": {},
   "outputs": [],
   "source": [
    "mode = 'Test'\n",
    "d = pd.read_csv(TRAIN_FILE)\n",
    "t = pd.read_csv(TEST_FILE)"
   ]
  },
  {
   "cell_type": "code",
   "execution_count": 206,
   "metadata": {},
   "outputs": [],
   "source": [
    "\n",
    "def data_preprocess(filename: str, data: dict, mode='Train', training_data=None):\n",
    "\t\"\"\"\n",
    "\t:param filename: str, the filename to be processed\n",
    "\t:param data: an empty Python dictionary\n",
    "\t:param mode: str, indicating if it is training mode or testing mode\n",
    "\t:param training_data: dict[str: list], key is the column name, value is its data\n",
    "\t\t\t\t\t\t  (You will only use this when mode == 'Test')\n",
    "\t:return data: dict[str: list], key is the column name, value is its data\n",
    "\t\"\"\"\n",
    "\n",
    "\td = pd.read_csv(filename)\n",
    "\tif mode == 'Train':\t\n",
    "\t\tfeature_name = ['Survived', 'Pclass', 'Sex', 'Age', 'SibSp', 'Parch', 'Fare', 'Embarked']\n",
    "\t\td = d[feature_name]\n",
    "\t\td.dropna(subset=['Age', 'Embarked'],inplace=True)\n",
    "\n",
    "\telif mode == 'Test':\n",
    "\t\tfeature_name = ['Pclass', 'Sex', 'Age', 'SibSp', 'Parch', 'Fare', 'Embarked']\n",
    "\t\td = d[feature_name]\n",
    "\n",
    "\t\ttrain_age_avg = round(sum(training_data.get('Age')) / len(training_data.get('Age')),3)\n",
    "\t\ttrain_fare_avg = round(sum(training_data.get('Fare')) / len(training_data.get('Fare')),3)\n",
    "\t\t\n",
    "\t\td['Age'].fillna(train_age_avg, inplace = True)\t\n",
    "\t\td['Fare'].fillna(train_fare_avg, inplace = True)\t\n",
    "\n",
    "\t# Changing 'male' to 1, 'female' to 0\n",
    "\td.loc[d.Sex == 'male', 'Sex'] = 1\n",
    "\td.loc[d.Sex == 'female', 'Sex'] = 0\n",
    "\n",
    "\t# Changing 'S' to 0, 'C' to 1, 'Q' to 2\n",
    "\td.loc[d.Embarked == 'S', 'Embarked'] = 0\n",
    "\td.loc[d.Embarked == 'C', 'Embarked'] = 1\n",
    "\td.loc[d.Embarked == 'Q', 'Embarked'] = 2\n",
    "\n",
    "\n",
    "\tdata = d.to_dict(orient='list')\n",
    "\n",
    "\treturn data\n",
    "\n",
    "\n",
    "def one_hot_encoding(data: dict, feature: str):\n",
    "\t\"\"\"\n",
    "\t:param data: dict[str, list], key is the column name, value is its data\n",
    "\t:param feature: str, the column name of interest\n",
    "\t:return data: dict[str, list], remove the feature column and add its one-hot encoding features\n",
    "\t\"\"\"\n",
    "\t############################\n",
    "\t#                          #\n",
    "\t#          TODO:           #\n",
    "\t#                          #\n",
    "\t############################\n",
    "\t\n",
    "\t\"\"\"\n",
    "\tunique_list = []\n",
    "\t\n",
    "\tfor x in data.get(feature):\n",
    "\t\tif x not in unique_list:\n",
    "\t\t\tunique_list.append(x)\n",
    "\t\n",
    "\tprint(unique_list)\n",
    "\n",
    "\tdata = pd.DataFrame(data)\n",
    "\n",
    "\tfor i in unique_list:\n",
    "\t\tdata[feature + '_' + str(i)] = 0\t\n",
    "\t\tdata.loc[data[feature] == i, feature + '_' + str(i)] = 1\n",
    "\t\n",
    "\tdata.pop(feature)\n",
    "\tdata = data.to_dict(orient='list')\n",
    "\t\n",
    "\t\"\"\"\n",
    "\tdata = pd.DataFrame(data)\n",
    "\tif feature == 'Sex':\n",
    "\t\tdata['Sex_0'] = 0\n",
    "\t\tdata['Sex_1'] = 0\n",
    "\n",
    "\t\tdata.loc[data.Sex == 1, 'Sex_1'] = 1\n",
    "\t\tdata.loc[data.Sex == 0, 'Sex_0'] = 1\n",
    "\t\tdata.pop('Sex')\n",
    "\t\n",
    "\telif feature == 'Pclass':\n",
    "\t\tdata['Pclass_0'] = 0\n",
    "\t\tdata['Pclass_1'] = 0\n",
    "\t\tdata['Pclass_2'] = 0\n",
    "\n",
    "\t\tdata.loc[data.Pclass == 1, 'Pclass_0'] = 1\n",
    "\t\tdata.loc[data.Pclass == 2, 'Pclass_1'] = 1\n",
    "\t\tdata.loc[data.Pclass == 3, 'Pclass_2'] = 1\n",
    "\t\t\n",
    "\t\tdata.pop('Pclass')\n",
    "\t\n",
    "\telif  feature == 'Embarked':\n",
    "\t\tdata['Embarked_0'] = 0\n",
    "\t\tdata['Embarked_1'] = 0\n",
    "\t\tdata['Embarked_2'] = 0\n",
    "\n",
    "\t\tdata.loc[data.Embarked == 0, 'Embarked_0'] = 1\n",
    "\t\tdata.loc[data.Embarked == 1, 'Embarked_1'] = 1\n",
    "\t\tdata.loc[data.Embarked == 2, 'Embarked_2'] = 1\n",
    "\t\t\n",
    "\t\tdata.pop('Embarked')\n",
    "\t\n",
    "\tdata = data.to_dict(orient='list')\n",
    "\t\n",
    "\treturn data\n",
    "\n",
    "\n",
    "def normalize(data: dict):\n",
    "\t\"\"\"\n",
    "\t:param data: dict[str, list], key is the column name, value is its data\n",
    "\t:return data: dict[str, list], key is the column name, value is its normalized data\n",
    "\t\"\"\"\n",
    "\t############################\n",
    "\t#                          #\n",
    "\t#          TODO:           #\n",
    "\t#                          #\n",
    "\t############################\n",
    "\tdata = pd.DataFrame(data)\n",
    "\n",
    "\tdata = (data - data.min()) / (data.max() - data.min())\n",
    "\n",
    "\tdata = data.to_dict(orient='list')\n",
    "\n",
    "\treturn data\n",
    "\n",
    "\n",
    "def increment(d1, scale, d2):\n",
    "    \"\"\"\n",
    "    Implements d1 += scale * d2 for sparse vectors.\n",
    "    @param dict d1: the feature vector which is mutated.\n",
    "    @param scale: float, scale value of d2 to add onto the corresponding value of d1\n",
    "    @param dict d2: a feature vector.\n",
    "    \"\"\"\n",
    "    # BEGIN_YOUR_CODE (our solution is 2 lines of code, but don't worry if you deviate from this)\n",
    "    for key, value in d2.items():\n",
    "        d1[key] = d1.get(key, 0) + scale * value\n",
    "    # END_YOUR_CODE\n",
    "\n",
    "\n",
    "############################################################\n",
    "\n",
    "\n",
    "def dotProduct(d1, d2):\n",
    "    \"\"\"\n",
    "    @param dict d1: a feature vector. Key is a feature (string); value is its weight (float).\n",
    "    @param dict d2: a feature vector. Key is a feature (string); value is its weight (float)\n",
    "    @return float: the dot product between d1 and d2\n",
    "    \"\"\"\n",
    "    if len(d1) < len(d2):\n",
    "        return dotProduct(d2, d1)\n",
    "    else:\n",
    "        # BEGIN_YOUR_CODE (our solution is 1 line of code, but don't worry if you deviate from this)\n",
    "        return sum(d1.get(key, 0)*value for key, value in d2.items())\n",
    "        # END_YOUR_CODE\n",
    "\n"
   ]
  },
  {
   "cell_type": "code",
   "execution_count": 186,
   "metadata": {},
   "outputs": [],
   "source": [
    "#def test5_0():\n",
    "ans = 0.8104\n",
    "train_data = data_preprocess('titanic_data/train.csv', {})\n",
    "train_data = one_hot_encoding(train_data, 'Sex')\n",
    "train_data = one_hot_encoding(train_data, 'Pclass')\n",
    "train_data = one_hot_encoding(train_data, 'Embarked')\n",
    "labels = train_data.pop('Survived')\n",
    "labels = list(int(labels[i]) for i in range(len(labels)))\n",
    "train_data = normalize(train_data)\n",
    "    #weights = titanic_level1.learnPredictor(train_data, labels, 1, 100, 0.1)\n",
    "    #test = round(evaluatePredictor(train_data, labels, weights, 2), 4)\n",
    "    #grader.require_is_equal(ans, test)\n",
    "#grader.add_basic_part('test5_0', test5_0, max_points=10, max_seconds=10, description=\"Milestone 5 - Classification Model degree 1\")\n"
   ]
  },
  {
   "cell_type": "code",
   "execution_count": 204,
   "metadata": {},
   "outputs": [
    {
     "data": {
      "text/plain": [
       "712"
      ]
     },
     "execution_count": 204,
     "metadata": {},
     "output_type": "execute_result"
    }
   ],
   "source": [
    "len(train_data['Age'])"
   ]
  },
  {
   "cell_type": "code",
   "execution_count": 207,
   "metadata": {},
   "outputs": [],
   "source": [
    "\n",
    "def learnPredictor(inputs: dict, labels: list, degree: int, num_epochs: int, alpha: float):\n",
    "\t\"\"\"\n",
    "\t:param inputs: dict[str, list], key is the column name, value is its data\n",
    "\t:param labels: list[int], indicating the true label for each data\n",
    "\t:param degree: int, degree of polynomial features\n",
    "\t:param num_epochs: int, the number of epochs for training\n",
    "\t:param alpha: float, known as step size or learning rate\n",
    "\t:return weights: dict[str, float], feature name and its weight\n",
    "\t\"\"\"\n",
    "\t# Step 1 : Initialize weights\n",
    "\tweights = {}  # feature => weight\n",
    "\tkeys = list(inputs.keys())\n",
    "\tif degree == 1:\n",
    "\t\tfor i in range(len(keys)):\n",
    "\t\t\tweights[keys[i]] = 0\n",
    "\telif degree == 2:\n",
    "\t\tfor i in range(len(keys)):\n",
    "\t\t\tweights[keys[i]] = 0\n",
    "\t\tfor i in range(len(keys)):\n",
    "\t\t\tfor j in range(i, len(keys)):\n",
    "\t\t\t\tweights[keys[i] + keys[j]] = 0\n",
    "\n",
    "\n",
    "\tdef sigmoid(k):\n",
    "\t\treturn 1 / (1 + math.exp(-k))\n",
    "\t# Step 2 : Start training\n",
    "\t# TODO:\n",
    "\t# Step 3 : Feature Extract\n",
    "\t# TODO:\n",
    "\t# Step 4 : Update weights\n",
    "\t# TODO:\n",
    "\n",
    "\tkeys = list(inputs.keys())\n",
    "\tlength = len(inputs[keys[0]])\n",
    "\n",
    "\tfor epoch in range(num_epochs):\n",
    "\t\tfor i in range(length):\n",
    "\t\t\tx = {k:v[i] for k, v in inputs.items()}\n",
    "\t\t\th = sigmoid(dotProduct(weights, x))\n",
    "\t\t\tscale = -alpha*(h-labels[i])\n",
    "\t\t\tincrement(weights, scale, x)\n",
    "\n",
    "\treturn weights"
   ]
  },
  {
   "cell_type": "code",
   "execution_count": 208,
   "metadata": {},
   "outputs": [
    {
     "ename": "TypeError",
     "evalue": "unsupported operand type(s) for -: 'float' and 'list'",
     "output_type": "error",
     "traceback": [
      "\u001b[0;31m---------------------------------------------------------------------------\u001b[0m",
      "\u001b[0;31mTypeError\u001b[0m                                 Traceback (most recent call last)",
      "Cell \u001b[0;32mIn[208], line 1\u001b[0m\n\u001b[0;32m----> 1\u001b[0m weights \u001b[39m=\u001b[39m learnPredictor(train_data, labels, \u001b[39m1\u001b[39;49m, \u001b[39m100\u001b[39;49m, \u001b[39m0.1\u001b[39;49m)\n",
      "Cell \u001b[0;32mIn[207], line 40\u001b[0m, in \u001b[0;36mlearnPredictor\u001b[0;34m(inputs, labels, degree, num_epochs, alpha)\u001b[0m\n\u001b[1;32m     38\u001b[0m \t\tx \u001b[39m=\u001b[39m {k:v[i] \u001b[39mfor\u001b[39;00m k, v \u001b[39min\u001b[39;00m inputs\u001b[39m.\u001b[39mitems()}\n\u001b[1;32m     39\u001b[0m \t\th \u001b[39m=\u001b[39m sigmoid(dotProduct(weights, x))\n\u001b[0;32m---> 40\u001b[0m \t\tscale \u001b[39m=\u001b[39m \u001b[39m-\u001b[39malpha\u001b[39m*\u001b[39m(h\u001b[39m-\u001b[39;49mlabels)\n\u001b[1;32m     41\u001b[0m \t\tincrement(weights, scale, x)\n\u001b[1;32m     43\u001b[0m \u001b[39mreturn\u001b[39;00m weights\n",
      "\u001b[0;31mTypeError\u001b[0m: unsupported operand type(s) for -: 'float' and 'list'"
     ]
    }
   ],
   "source": [
    "weights = learnPredictor(train_data, labels, 1, 100, 0.1)"
   ]
  },
  {
   "cell_type": "code",
   "execution_count": 195,
   "metadata": {},
   "outputs": [
    {
     "data": {
      "text/plain": [
       "{'Age': 0,\n",
       " 'SibSp': 0,\n",
       " 'Parch': 0,\n",
       " 'Fare': 0,\n",
       " 'Sex_0': 0,\n",
       " 'Sex_1': 0,\n",
       " 'Pclass_0': 0,\n",
       " 'Pclass_1': 0,\n",
       " 'Pclass_2': 0,\n",
       " 'Embarked_0': 0,\n",
       " 'Embarked_1': 0,\n",
       " 'Embarked_2': 0}"
      ]
     },
     "execution_count": 195,
     "metadata": {},
     "output_type": "execute_result"
    }
   ],
   "source": [
    "weights"
   ]
  },
  {
   "cell_type": "code",
   "execution_count": null,
   "metadata": {},
   "outputs": [],
   "source": []
  }
 ],
 "metadata": {
  "kernelspec": {
   "display_name": "base",
   "language": "python",
   "name": "python3"
  },
  "language_info": {
   "codemirror_mode": {
    "name": "ipython",
    "version": 3
   },
   "file_extension": ".py",
   "mimetype": "text/x-python",
   "name": "python",
   "nbconvert_exporter": "python",
   "pygments_lexer": "ipython3",
   "version": "3.8.16"
  },
  "orig_nbformat": 4
 },
 "nbformat": 4,
 "nbformat_minor": 2
}
