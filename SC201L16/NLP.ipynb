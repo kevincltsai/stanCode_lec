{
 "cells": [
  {
   "cell_type": "code",
   "execution_count": null,
   "metadata": {
    "colab": {
     "base_uri": "https://localhost:8080/"
    },
    "executionInfo": {
     "elapsed": 78461,
     "status": "ok",
     "timestamp": 1659880159141,
     "user": {
      "displayName": "",
      "userId": "12446733118162874804"
     },
     "user_tz": -480
    },
    "id": "wbI7UfCbsFPA",
    "outputId": "26933e88-f3fe-4e57-cf68-e314190b023e",
    "pycharm": {
     "is_executing": true
    }
   },
   "outputs": [],
   "source": [
    "import gensim.downloader\n",
    "model = gensim.downloader.load('glove-wiki-gigaword-50') "
   ]
  },
  {
   "cell_type": "code",
   "execution_count": null,
   "metadata": {
    "id": "8TaXuV5esIz8"
   },
   "outputs": [],
   "source": [
    "#1 TODO: Select a word vector and see its shape"
   ]
  },
  {
   "cell_type": "code",
   "execution_count": null,
   "metadata": {
    "colab": {
     "base_uri": "https://localhost:8080/"
    },
    "executionInfo": {
     "elapsed": 283,
     "status": "ok",
     "timestamp": 1659880186574,
     "user": {
      "displayName": "",
      "userId": "12446733118162874804"
     },
     "user_tz": -480
    },
    "id": "kpPz1JSFsgN6",
    "outputId": "0614a0fb-1b86-465d-95b1-5a3349b63dc0",
    "pycharm": {
     "is_executing": true
    }
   },
   "outputs": [],
   "source": []
  },
  {
   "cell_type": "code",
   "execution_count": 5,
   "metadata": {
    "executionInfo": {
     "elapsed": 278,
     "status": "ok",
     "timestamp": 1659880212363,
     "user": {
      "displayName": "",
      "userId": "12446733118162874804"
     },
     "user_tz": -480
    },
    "id": "V02j4t5vsm3k"
   },
   "outputs": [],
   "source": [
    "pairs = [\n",
    "         ('car', 'van'),\n",
    "         ('car', 'truck'), \n",
    "         ('car', 'bicycle'),\n",
    "         ('car', 'vehicle')\n",
    "]"
   ]
  },
  {
   "cell_type": "code",
   "execution_count": null,
   "metadata": {
    "id": "NU3DrNmQlpas"
   },
   "outputs": [],
   "source": [
    "#2 TODO: Find the similarity between pairs"
   ]
  },
  {
   "cell_type": "code",
   "execution_count": null,
   "metadata": {
    "colab": {
     "base_uri": "https://localhost:8080/"
    },
    "executionInfo": {
     "elapsed": 301,
     "status": "ok",
     "timestamp": 1659880341429,
     "user": {
      "displayName": "",
      "userId": "12446733118162874804"
     },
     "user_tz": -480
    },
    "id": "eC8eHHqPlwjf",
    "outputId": "65c8bb73-2207-43c7-b533-338a20c4a7e0",
    "pycharm": {
     "is_executing": true
    }
   },
   "outputs": [],
   "source": []
  },
  {
   "cell_type": "code",
   "execution_count": null,
   "metadata": {
    "id": "4UTsgZXqlw-9"
   },
   "outputs": [],
   "source": [
    "#3 TODO: Find the top5 similar words to 'code'"
   ]
  },
  {
   "cell_type": "code",
   "execution_count": null,
   "metadata": {
    "colab": {
     "base_uri": "https://localhost:8080/"
    },
    "executionInfo": {
     "elapsed": 337,
     "status": "ok",
     "timestamp": 1659880413639,
     "user": {
      "displayName": "",
      "userId": "12446733118162874804"
     },
     "user_tz": -480
    },
    "id": "RoVNTzbQTffQ",
    "outputId": "945fecca-7960-4b5a-f44a-5ffe1594098d",
    "pycharm": {
     "is_executing": true
    }
   },
   "outputs": [],
   "source": []
  },
  {
   "cell_type": "code",
   "execution_count": 9,
   "metadata": {
    "executionInfo": {
     "elapsed": 3,
     "status": "ok",
     "timestamp": 1659880431759,
     "user": {
      "displayName": "",
      "userId": "12446733118162874804"
     },
     "user_tz": -480
    },
    "id": "6OyubNOET-y5"
   },
   "outputs": [],
   "source": [
    "def analogy(x1, x2, y1):\n",
    "  result = model.most_similar(positive=[x2, y1], negative=[x1])\n",
    "  return result[0][0]"
   ]
  },
  {
   "cell_type": "code",
   "execution_count": null,
   "metadata": {
    "colab": {
     "base_uri": "https://localhost:8080/",
     "height": 35
    },
    "executionInfo": {
     "elapsed": 300,
     "status": "ok",
     "timestamp": 1659880435846,
     "user": {
      "displayName": "",
      "userId": "12446733118162874804"
     },
     "user_tz": -480
    },
    "id": "69-Z5vw0cLsF",
    "outputId": "51271089-e656-4c85-a31b-e9cbab5418c6",
    "pycharm": {
     "is_executing": true
    }
   },
   "outputs": [],
   "source": [
    "analogy('man', 'king', 'woman')"
   ]
  },
  {
   "cell_type": "code",
   "execution_count": null,
   "metadata": {
    "colab": {
     "base_uri": "https://localhost:8080/",
     "height": 35
    },
    "executionInfo": {
     "elapsed": 6,
     "status": "ok",
     "timestamp": 1659880438140,
     "user": {
      "displayName": "",
      "userId": "12446733118162874804"
     },
     "user_tz": -480
    },
    "id": "CjUL0qlkcOhu",
    "outputId": "9336eea2-6f32-47b0-de2d-a7d647d5268c",
    "pycharm": {
     "is_executing": true
    }
   },
   "outputs": [],
   "source": [
    "analogy('man', 'his', 'woman')"
   ]
  },
  {
   "cell_type": "code",
   "execution_count": null,
   "metadata": {
    "colab": {
     "base_uri": "https://localhost:8080/",
     "height": 35
    },
    "executionInfo": {
     "elapsed": 8,
     "status": "ok",
     "timestamp": 1659880439711,
     "user": {
      "displayName": "",
      "userId": "12446733118162874804"
     },
     "user_tz": -480
    },
    "id": "KBtTX1NMcOxu",
    "outputId": "2ea347a5-6b2f-4447-c765-276a2df5f38b",
    "pycharm": {
     "is_executing": true
    }
   },
   "outputs": [],
   "source": [
    "analogy('tall', 'tallest', 'small')"
   ]
  },
  {
   "cell_type": "code",
   "execution_count": 12,
   "metadata": {
    "executionInfo": {
     "elapsed": 374,
     "status": "ok",
     "timestamp": 1659880441947,
     "user": {
      "displayName": "",
      "userId": "12446733118162874804"
     },
     "user_tz": -480
    },
    "id": "vOd5calOdBsG"
   },
   "outputs": [],
   "source": []
  },
  {
   "cell_type": "code",
   "execution_count": 13,
   "metadata": {
    "executionInfo": {
     "elapsed": 742,
     "status": "ok",
     "timestamp": 1659880444872,
     "user": {
      "displayName": "",
      "userId": "12446733118162874804"
     },
     "user_tz": -480
    },
    "id": "XSIB0BG1dRyH"
   },
   "outputs": [],
   "source": [
    "import numpy as np\n",
    "from sklearn.decomposition import PCA\n",
    "import matplotlib.pyplot as plt"
   ]
  },
  {
   "cell_type": "code",
   "execution_count": 14,
   "metadata": {
    "executionInfo": {
     "elapsed": 308,
     "status": "ok",
     "timestamp": 1659880447734,
     "user": {
      "displayName": "",
      "userId": "12446733118162874804"
     },
     "user_tz": -480
    },
    "id": "Ox87_4B9gOEp"
   },
   "outputs": [],
   "source": [
    "def display_pca_scatterplot(model, words, sample=0):\n",
    "  word_vectors = np.array([model[word] for word in words])\n",
    "  two_dim = PCA().fit_transform(word_vectors)[:, :2]\n",
    "\n",
    "  plt.figure(figsize=(6, 6))\n",
    "  plt.scatter(two_dim[:, 0], two_dim[:, 1], edgecolors='k', c='r')\n",
    "\n",
    "  for word, (x, y) in zip(words, two_dim):\n",
    "    plt.text(x+0.05, y+0.05, word)"
   ]
  },
  {
   "cell_type": "code",
   "execution_count": null,
   "metadata": {
    "colab": {
     "base_uri": "https://localhost:8080/",
     "height": 374
    },
    "executionInfo": {
     "elapsed": 8,
     "status": "ok",
     "timestamp": 1659880449161,
     "user": {
      "displayName": "",
      "userId": "12446733118162874804"
     },
     "user_tz": -480
    },
    "id": "4J0m3WX6gOWS",
    "outputId": "337eba6b-82f6-4a8e-d6dc-8cde5c4feab0",
    "pycharm": {
     "is_executing": true
    }
   },
   "outputs": [],
   "source": [
    "display_pca_scatterplot(model, \n",
    "                        ['coffee', 'tea',\n",
    "                         'happy', 'sad',\n",
    "                         'car', 'van',\n",
    "                         'basketball', 'baseball'])"
   ]
  },
  {
   "cell_type": "code",
   "execution_count": null,
   "metadata": {
    "id": "L21XcYEBgOl1"
   },
   "outputs": [],
   "source": []
  }
 ],
 "metadata": {
  "colab": {
   "collapsed_sections": [],
   "name": "NLP.ipynb",
   "provenance": []
  },
  "kernelspec": {
   "display_name": "Python 3",
   "language": "python",
   "name": "python3"
  },
  "language_info": {
   "codemirror_mode": {
    "name": "ipython",
    "version": 3
   },
   "file_extension": ".py",
   "mimetype": "text/x-python",
   "name": "python",
   "nbconvert_exporter": "python",
   "pygments_lexer": "ipython3",
   "version": "3.8.5"
  }
 },
 "nbformat": 4,
 "nbformat_minor": 1
}
