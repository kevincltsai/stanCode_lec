{
 "cells": [
  {
   "cell_type": "code",
   "execution_count": null,
   "metadata": {
    "colab": {
     "base_uri": "https://localhost:8080/"
    },
    "executionInfo": {
     "elapsed": 4405,
     "status": "ok",
     "timestamp": 1659879110391,
     "user": {
      "displayName": "",
      "userId": "12446733118162874804"
     },
     "user_tz": -480
    },
    "id": "DEsRCQlz-5Cx",
    "outputId": "57ef5027-5bf2-4c8c-c145-7ba36efe7057",
    "pycharm": {
     "is_executing": true
    }
   },
   "outputs": [],
   "source": [
    "# Mount to Google Drive\n",
    "from google.colab import drive\n",
    "drive.mount('/content/drive', force_remount=True)\n",
    "\n",
    "# Define Project Folder\n",
    "FOLDERNAME = 'Colab\\ Notebooks/SC201L16'\n",
    "\n",
    "%cd drive/MyDrive/$FOLDERNAME"
   ]
  },
  {
   "cell_type": "code",
   "execution_count": null,
   "metadata": {
    "colab": {
     "base_uri": "https://localhost:8080/"
    },
    "executionInfo": {
     "elapsed": 967,
     "status": "ok",
     "timestamp": 1659879111354,
     "user": {
      "displayName": "",
      "userId": "12446733118162874804"
     },
     "user_tz": -480
    },
    "id": "pUvgKcdC_PlB",
    "outputId": "407f4ced-fef3-4f79-f7d7-a74d2d5c1678",
    "pycharm": {
     "is_executing": true
    }
   },
   "outputs": [],
   "source": [
    "# Define device\n",
    "import torch\n",
    "if torch.cuda.is_available():\n",
    "  device = torch.device('cuda')\n",
    "else:\n",
    "  device = torch.device('cpu')\n",
    "print('Device:', device)"
   ]
  },
  {
   "cell_type": "code",
   "execution_count": 3,
   "metadata": {
    "executionInfo": {
     "elapsed": 9,
     "status": "ok",
     "timestamp": 1659879111354,
     "user": {
      "displayName": "",
      "userId": "12446733118162874804"
     },
     "user_tz": -480
    },
    "id": "5WXam8AA_bXa"
   },
   "outputs": [],
   "source": [
    "# Load Existing Dataset\n",
    "#####################################\n",
    "#                                   #\n",
    "#               TODO:               #\n",
    "#                                   #\n",
    "#####################################"
   ]
  },
  {
   "cell_type": "code",
   "execution_count": null,
   "metadata": {
    "colab": {
     "base_uri": "https://localhost:8080/"
    },
    "executionInfo": {
     "elapsed": 9,
     "status": "ok",
     "timestamp": 1659879111355,
     "user": {
      "displayName": "",
      "userId": "12446733118162874804"
     },
     "user_tz": -480
    },
    "id": "BUYRd7bfKy7N",
    "outputId": "85826a61-5866-437d-bcc0-e7b9ea65a9a9",
    "pycharm": {
     "is_executing": true
    }
   },
   "outputs": [],
   "source": [
    "# Check Data Dimension\n",
    "#####################################\n",
    "#                                   #\n",
    "#               TODO:               #\n",
    "#                                   #\n",
    "#####################################"
   ]
  },
  {
   "cell_type": "code",
   "execution_count": null,
   "metadata": {
    "colab": {
     "base_uri": "https://localhost:8080/"
    },
    "executionInfo": {
     "elapsed": 6,
     "status": "ok",
     "timestamp": 1659879111355,
     "user": {
      "displayName": "",
      "userId": "12446733118162874804"
     },
     "user_tz": -480
    },
    "id": "KB8ZyWY5EQTS",
    "outputId": "468d3a38-0757-4837-e10d-5f4fb73dbb18",
    "pycharm": {
     "is_executing": true
    }
   },
   "outputs": [],
   "source": [
    "num_train = len(train_data)\n",
    "num_val = len(val_data)\n",
    "print('Number of training:', num_train)\n",
    "print('Number of validation:', num_val)"
   ]
  },
  {
   "cell_type": "code",
   "execution_count": 6,
   "metadata": {
    "executionInfo": {
     "elapsed": 5,
     "status": "ok",
     "timestamp": 1659879111355,
     "user": {
      "displayName": "",
      "userId": "12446733118162874804"
     },
     "user_tz": -480
    },
    "id": "QTFFEk6xAJ99"
   },
   "outputs": [],
   "source": [
    "# Build Model\n",
    "import torch.nn as nn\n",
    "model = None\n",
    "#####################################\n",
    "#                                   #\n",
    "#               TODO:               #\n",
    "#                                   #\n",
    "#####################################"
   ]
  },
  {
   "cell_type": "code",
   "execution_count": null,
   "metadata": {
    "colab": {
     "base_uri": "https://localhost:8080/"
    },
    "executionInfo": {
     "elapsed": 3249,
     "status": "ok",
     "timestamp": 1659879114600,
     "user": {
      "displayName": "",
      "userId": "12446733118162874804"
     },
     "user_tz": -480
    },
    "id": "wTg71OLVKaIO",
    "outputId": "b7b3d5d3-8c91-4136-8a3c-3d2cbac66af4",
    "pycharm": {
     "is_executing": true
    }
   },
   "outputs": [],
   "source": [
    "# Move model to GPU\n",
    "#####################################\n",
    "#                                   #\n",
    "#               TODO:               #\n",
    "#                                   #\n",
    "#####################################"
   ]
  },
  {
   "cell_type": "code",
   "execution_count": 10,
   "metadata": {
    "executionInfo": {
     "elapsed": 8,
     "status": "ok",
     "timestamp": 1659879114600,
     "user": {
      "displayName": "",
      "userId": "12446733118162874804"
     },
     "user_tz": -480
    },
    "id": "jbGU1OaCAfnE"
   },
   "outputs": [],
   "source": [
    "# Create Mini-batches\n",
    "from torch.utils.data import DataLoader\n",
    "mini_trains = DataLoader(train_data, batch_size=128, shuffle=True)\n",
    "mini_vals = DataLoader(val_data, batch_size=128, shuffle=True)"
   ]
  },
  {
   "cell_type": "code",
   "execution_count": 11,
   "metadata": {
    "executionInfo": {
     "elapsed": 6,
     "status": "ok",
     "timestamp": 1659879114601,
     "user": {
      "displayName": "",
      "userId": "12446733118162874804"
     },
     "user_tz": -480
    },
    "id": "0SFsOHJABDtM"
   },
   "outputs": [],
   "source": [
    "# Training Procedure\n",
    "def train(num_epoch, model, mini_trains, mini_vals, device, loss_function, optimizer):\n",
    "  for epoch in range(num_epoch):\n",
    "    num_iters = 0\n",
    "    for x, y in mini_trains:\n",
    "      model.train()\n",
    "      x = x.to(device)\n",
    "      y = y.to(device)\n",
    "      scores = model(x)  \n",
    "      loss = loss_function(scores, y)\n",
    "      optimizer.zero_grad()\n",
    "      loss.backward()\n",
    "      optimizer.step()\n",
    "      if num_iters % 10 == 0:\n",
    "        evaluate_predictor(model, epoch, mini_vals, device)\n",
    "      num_iters += 1"
   ]
  },
  {
   "cell_type": "code",
   "execution_count": 12,
   "metadata": {
    "executionInfo": {
     "elapsed": 6,
     "status": "ok",
     "timestamp": 1659879114601,
     "user": {
      "displayName": "",
      "userId": "12446733118162874804"
     },
     "user_tz": -480
    },
    "id": "AGjktuIUBDvf"
   },
   "outputs": [],
   "source": [
    "# Validating Procedure\n",
    "def evaluate_predictor(model, epoch, mini_vals, device):\n",
    "  model.eval()\n",
    "  with torch.no_grad():\n",
    "    acc_count = 0\n",
    "    for x, y in mini_vals:\n",
    "      x = x.to(device)\n",
    "      y = y.to(device)\n",
    "      scores=model(x)\n",
    "      predictions=scores.max(1)[1]\n",
    "      acc = predictions.eq(y).sum().item()\n",
    "      acc_count += acc\n",
    "    print(f'Epoch[{epoch+1}] Acc: {acc_count/num_val}')"
   ]
  },
  {
   "cell_type": "code",
   "execution_count": 13,
   "metadata": {
    "executionInfo": {
     "elapsed": 6,
     "status": "ok",
     "timestamp": 1659879114601,
     "user": {
      "displayName": "",
      "userId": "12446733118162874804"
     },
     "user_tz": -480
    },
    "id": "0V1SD_4pBDyH"
   },
   "outputs": [],
   "source": [
    "# Define loss function & optimizer\n",
    "import torch.optim as optim\n",
    "loss_function = nn.CrossEntropyLoss()\n",
    "optimizer = optim.Adam(model.parameters(), lr=1e-3)"
   ]
  },
  {
   "cell_type": "code",
   "execution_count": null,
   "metadata": {
    "colab": {
     "base_uri": "https://localhost:8080/"
    },
    "executionInfo": {
     "elapsed": 50686,
     "status": "ok",
     "timestamp": 1659879165282,
     "user": {
      "displayName": "",
      "userId": "12446733118162874804"
     },
     "user_tz": -480
    },
    "id": "syDtanisBD0c",
    "outputId": "fd01a7bd-2e64-40dc-8ce2-df55a904b5aa",
    "pycharm": {
     "is_executing": true
    }
   },
   "outputs": [],
   "source": [
    "# Start training \n",
    "train(1, model, mini_trains, mini_vals, device, loss_function, optimizer)"
   ]
  }
 ],
 "metadata": {
  "accelerator": "GPU",
  "colab": {
   "collapsed_sections": [],
   "name": "my_pytorch_project.ipynb",
   "provenance": []
  },
  "gpuClass": "standard",
  "kernelspec": {
   "display_name": "Python 3",
   "language": "python",
   "name": "python3"
  },
  "language_info": {
   "codemirror_mode": {
    "name": "ipython",
    "version": 3
   },
   "file_extension": ".py",
   "mimetype": "text/x-python",
   "name": "python",
   "nbconvert_exporter": "python",
   "pygments_lexer": "ipython3",
   "version": "3.8.5"
  }
 },
 "nbformat": 4,
 "nbformat_minor": 1
}
